{
 "cells": [
  {
   "cell_type": "code",
   "execution_count": 2,
   "id": "c0e00fad-2a62-40f6-a971-468e09a9f17d",
   "metadata": {},
   "outputs": [],
   "source": [
    "import torch\n",
    "from torch import nn as nn\n",
    "from torch.utils.data import DataLoader\n",
    "from torch import optim \n",
    "import matplotlib.pyplot as plt\n",
    "from torch.nn import functional\n",
    "from torchvision.datasets import ImageFolder\n",
    "from torchvision import transforms,models\n",
    "import matplotlib.pyplot as plt"
   ]
  },
  {
   "cell_type": "code",
   "execution_count": 3,
   "id": "633eb93b-750d-4f5c-8e5f-a9cbc62fe5fa",
   "metadata": {},
   "outputs": [],
   "source": [
    "class dataset(Dataset):\n",
    "    def __init__(self, path):\n",
    "        self.dataset = torch.tensor(pd.read_csv(path).values)\n",
    "    \n",
    "    def __len__(self):\n",
    "        return len(self.dataset)\n",
    "    \n",
    "    def __getitem__(self, index):\n",
    "        return self.dataset[index, :-1], self.dataset[index, -1]"
   ]
  },
  {
   "cell_type": "code",
   "execution_count": 20,
   "id": "cee21628-53e0-4c73-b075-ad2f235a2ccc",
   "metadata": {},
   "outputs": [],
   "source": [
    "class Net(nn.Module):\n",
    "    \n",
    "    def __init__(self):\n",
    "        super().__init__()\n",
    "        \n",
    "        self.conv1 = nn.Conv2d(3, 32, kernel_size= 3, padding = 1)\n",
    "        self.pool1 = nn.MaxPool2d(2)\n",
    "        \n",
    "        self.conv2 = nn.Conv2d(32, 64, kernel_size=3, padding=1)\n",
    "        self.pool2 = nn.MaxPool2d(2)\n",
    "        \n",
    "        self.conv3 = nn.Conv2d(64, 128, kernel_size=3, padding=1)\n",
    "        self.pool3 = nn.MaxPool2d(2)\n",
    "        \n",
    "        self.flatten = nn.Flatten()\n",
    "        \n",
    "        self.fc1 = nn.Linear(128*28*28, 256)\n",
    "        self.fc2 = nn.Linear(256, 128)\n",
    "        self.fc3 = nn.Linear(128,1)\n",
    "    \n",
    "    def forward(self, x):\n",
    "        out = self.pool1(functional.relu(self.conv1(x)))\n",
    "        out = self.pool2(functional.relu(self.conv2(out)))\n",
    "        out = self.pool3(functional.relu(self.conv3(out)))\n",
    "        \n",
    "        out = self.flatten(out)\n",
    "        \n",
    "        out = functional.relu(self.fc1(out))\n",
    "        out = functional.relu(self.fc2(out))\n",
    "        out = functional.sigmoid(self.fc3(out))\n",
    "        \n",
    "        return out"
   ]
  },
  {
   "cell_type": "code",
   "execution_count": 34,
   "id": "cee8e8a2-1d4d-40f8-b0f5-c3360ed32f77",
   "metadata": {},
   "outputs": [],
   "source": [
    "def training_loop(n_epochs, optimizer, model, loss_fn, train_loader, test_loader, print_plot=True):\n",
    "    train_accuracy = torch.zeros(n_epochs)\n",
    "    test_accuracy = torch.zeros(n_epochs)\n",
    "    \n",
    "    for epoch in range(n_epochs):\n",
    "\n",
    "        for example, labels in train_loader:     \n",
    "            \n",
    "            labels  = labels.unsqueeze(1)\n",
    "\n",
    "            output = model(example.float())\n",
    "            loss = loss_fn(output, labels.float())\n",
    "\n",
    "            optimizer.zero_grad()\n",
    "            loss.backward()\n",
    "            optimizer.step()\n",
    "            \n",
    "            \n",
    "        with torch.no_grad():\n",
    "            \n",
    "            for loader, accuracy in [(train_loader, train_accuracy),(test_loader, test_accuracy)]:\n",
    "                correct = 0\n",
    "                total = 0\n",
    "\n",
    "                for examples, labels in loader:\n",
    "                    labels = labels.view(-1, 1)\n",
    "\n",
    "                    outputs = model(examples.float())\n",
    "                    predicted = torch.round(outputs)\n",
    "\n",
    "                    total += labels.shape[0]\n",
    "                    correct += (predicted == labels).sum()\n",
    "\n",
    "                accuracy[epoch] = correct / total\n",
    "                \n",
    "        print(f'Epoch {epoch+1})', \n",
    "              f'Train Accuracy: {train_accuracy[epoch]}',\n",
    "              f'Test Accuracy: {test_accuracy[epoch]}')\n",
    "\n",
    "    if print_plot:\n",
    "\n",
    "        epochs = range(n_epochs)\n",
    "        \n",
    "        plt.plot(epochs, train_accuracy, 'g', label='Training accuracy')\n",
    "        plt.plot(epochs, test_accuracy, 'b', label='Test accuracy')\n",
    "        plt.title('Training and Test loss')\n",
    "        plt.xlabel('Epochs')\n",
    "        plt.ylabel('Loss')\n",
    "        plt.legend()\n",
    "        plt.show()"
   ]
  },
  {
   "cell_type": "code",
   "execution_count": 35,
   "id": "ed9b31a1-6310-4159-a9a1-ac264d06bd66",
   "metadata": {},
   "outputs": [],
   "source": [
    "transformations = transforms.Compose([\n",
    "    transforms.Resize((224,224)),\n",
    "    transforms.ToTensor(),\n",
    "    transforms.Normalize(\n",
    "        mean=[0.485, 0.456, 0.406],\n",
    "        std=[0.229, 0.224, 0.225]\n",
    "    )\n",
    "])\n",
    "\n",
    "train_data = ImageFolder(r'Data/archive/train', transform= transformations)\n",
    "test_data = ImageFolder(r'Data/archive/test', transform= transformations)\n",
    "\n",
    "train_loader = DataLoader(train_data, batch_size = 32, shuffle =True)\n",
    "test_loader = DataLoader(test_data, batch_size = 32, shuffle =True)"
   ]
  },
  {
   "cell_type": "code",
   "execution_count": null,
   "id": "01ce7942-e6b3-4f94-925d-1a92079f1607",
   "metadata": {},
   "outputs": [
    {
     "name": "stdout",
     "output_type": "stream",
     "text": [
      "Epoch 1) Train Accuracy: 0.7902920246124268 Test Accuracy: 0.7924242615699768\n",
      "Epoch 2) Train Accuracy: 0.8335229158401489 Test Accuracy: 0.831818163394928\n",
      "Epoch 3) Train Accuracy: 0.8373151421546936 Test Accuracy: 0.8121212124824524\n",
      "Epoch 4) Train Accuracy: 0.8873720169067383 Test Accuracy: 0.831818163394928\n"
     ]
    }
   ],
   "source": [
    "learning_rate = 1e-3 # 0.001\n",
    "\n",
    "model = Net()\n",
    "\n",
    "optimizer = optim.Adam(model.parameters(),lr = learning_rate)\n",
    "loss_fn = nn.BCELoss()\n",
    "\n",
    "training_loop(\n",
    "    n_epochs = 10,\n",
    "    optimizer = optimizer,\n",
    "    model = model,\n",
    "    loss_fn = loss_fn,\n",
    "    print_plot = True,\n",
    "    train_loader = train_loader,\n",
    "    test_loader = test_loader\n",
    ")"
   ]
  },
  {
   "cell_type": "code",
   "execution_count": null,
   "id": "0b905d67-7503-4a7d-94d0-b70486c2e207",
   "metadata": {},
   "outputs": [],
   "source": []
  }
 ],
 "metadata": {
  "kernelspec": {
   "display_name": "Python 3 (ipykernel)",
   "language": "python",
   "name": "python3"
  },
  "language_info": {
   "codemirror_mode": {
    "name": "ipython",
    "version": 3
   },
   "file_extension": ".py",
   "mimetype": "text/x-python",
   "name": "python",
   "nbconvert_exporter": "python",
   "pygments_lexer": "ipython3",
   "version": "3.7.6"
  }
 },
 "nbformat": 4,
 "nbformat_minor": 5
}
