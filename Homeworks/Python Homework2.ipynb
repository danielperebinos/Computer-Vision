{
 "cells": [
  {
   "cell_type": "code",
   "execution_count": 1,
   "id": "663987e2-c70c-4b3d-a324-8c34b3d08998",
   "metadata": {},
   "outputs": [],
   "source": [
    "import datetime"
   ]
  },
  {
   "cell_type": "code",
   "execution_count": 2,
   "id": "a56ac156-c87c-4a23-beac-a126f29a6814",
   "metadata": {},
   "outputs": [],
   "source": [
    "class om:\n",
    "    def __init__(self, surname, name, date = None):\n",
    "        self.__surname = surname\n",
    "        self.__name = name\n",
    "        self.setDate(date)\n",
    "        self.setYears()\n",
    "    \n",
    "    # Secure insert date\n",
    "    def setDate(self, date):\n",
    "        if type(date) is str:\n",
    "            self.__date = datetime.date.fromisoformat(date)\n",
    "        elif type(date) is datetime.date:\n",
    "            self.__date = date\n",
    "        else:\n",
    "            self.__date = None\n",
    "    \n",
    "    # Calculate year\n",
    "    def setYears(self):\n",
    "        if self.__date:\n",
    "            now = datetime.date.today()\n",
    "            self.__years = (now - self.__date).days//365\n",
    "    \n",
    "    # Smart print\n",
    "    def info(self):\n",
    "        print('Nume :', self.__surname)\n",
    "        print('Prenume :', self.__name)\n",
    "        if self.__date:\n",
    "            print('Years :', self.__years)\n",
    "            print('Birthdate :', self.__date)"
   ]
  },
  {
   "cell_type": "code",
   "execution_count": 3,
   "id": "390b7d6d-0cd4-48ed-8b25-24394d7b808a",
   "metadata": {},
   "outputs": [],
   "source": [
    "class elev(om):\n",
    "    def __init__(self, surname, name, date = None, grades = []):\n",
    "        super().__init__(surname, name, date)\n",
    "        self.__grades = grades\n",
    "        \n",
    "    # Add grade\n",
    "    def addGrade(self, grade):\n",
    "        self.__grades.append(grade)\n",
    "    \n",
    "    # Mean value of grades\n",
    "    def medie(self):\n",
    "        Sum = 0\n",
    "        for grade in self.__grades:\n",
    "            Sum += grade\n",
    "        return Sum/len(self.__grades) if len(self.__grades)>0 else 0\n",
    "    \n",
    "    # Check if student is eminent\n",
    "    def isEminent(self):\n",
    "        return True if self.medie() > 9 else False"
   ]
  },
  {
   "cell_type": "code",
   "execution_count": 4,
   "id": "54867eb5-44ad-4752-9963-350e30e94a0c",
   "metadata": {},
   "outputs": [
    {
     "name": "stdout",
     "output_type": "stream",
     "text": [
      "Nume : Perebinos\n",
      "Prenume : Daniel\n",
      "Years : 18\n",
      "Birthdate : 2003-02-05\n"
     ]
    }
   ],
   "source": [
    "danu = elev('Perebinos', 'Daniel',datetime.date.fromisoformat('2003-02-05'),[9,10,10])\n",
    "danu.info()"
   ]
  },
  {
   "cell_type": "code",
   "execution_count": 5,
   "id": "789a8a85-515b-4c50-940c-2f7b51995c08",
   "metadata": {},
   "outputs": [
    {
     "name": "stdout",
     "output_type": "stream",
     "text": [
      "9.666666666666666\n"
     ]
    },
    {
     "data": {
      "text/plain": [
       "True"
      ]
     },
     "execution_count": 5,
     "metadata": {},
     "output_type": "execute_result"
    }
   ],
   "source": [
    "print(danu.medie())\n",
    "danu.isEminent()"
   ]
  },
  {
   "cell_type": "code",
   "execution_count": 6,
   "id": "112b8a12-f1ab-4b38-8774-8465e07b33fe",
   "metadata": {},
   "outputs": [],
   "source": [
    "class profesor(om):\n",
    "    def __init__(self, surname, name, date = None, discipline = [], salariu = 0):\n",
    "        super().__init__(surname, name, date)\n",
    "        self.__discipline = discipline\n",
    "        self.__salariu = salariu\n",
    "    \n",
    "    # Calculate anual salary value\n",
    "    def salariuAnual(self):\n",
    "        return self.__salariu * 12\n",
    "    \n",
    "    # Return the number of disciplines\n",
    "    def nr_discipline(self):\n",
    "        return len(self.__discipline)"
   ]
  },
  {
   "cell_type": "code",
   "execution_count": 7,
   "id": "70770b95-3106-4bbd-878b-0ec97b9b58f7",
   "metadata": {},
   "outputs": [
    {
     "data": {
      "text/plain": [
       "30000"
      ]
     },
     "execution_count": 7,
     "metadata": {},
     "output_type": "execute_result"
    }
   ],
   "source": [
    "prof = profesor('prof', 'profan', discipline = ['BD', 'MMC'], salariu = 2500)\n",
    "prof.salariuAnual()"
   ]
  },
  {
   "cell_type": "code",
   "execution_count": 8,
   "id": "5ecdf2fc-33f4-40ad-946d-082415be6ebc",
   "metadata": {},
   "outputs": [
    {
     "data": {
      "text/plain": [
       "2"
      ]
     },
     "execution_count": 8,
     "metadata": {},
     "output_type": "execute_result"
    }
   ],
   "source": [
    "prof.nr_discipline()"
   ]
  }
 ],
 "metadata": {
  "kernelspec": {
   "display_name": "Python 3 (ipykernel)",
   "language": "python",
   "name": "python3"
  },
  "language_info": {
   "codemirror_mode": {
    "name": "ipython",
    "version": 3
   },
   "file_extension": ".py",
   "mimetype": "text/x-python",
   "name": "python",
   "nbconvert_exporter": "python",
   "pygments_lexer": "ipython3",
   "version": "3.7.6"
  }
 },
 "nbformat": 4,
 "nbformat_minor": 5
}
