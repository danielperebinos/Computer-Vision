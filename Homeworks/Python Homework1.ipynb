{
 "cells": [
  {
   "cell_type": "code",
   "execution_count": 1,
   "id": "0da191f1-f342-43cd-94c5-4afc1cfbb37f",
   "metadata": {},
   "outputs": [],
   "source": [
    "# Returnam numarul de zile fara a lua in seama anul\n",
    "def daysOfMonth(x:int):\n",
    "    if x < 1 or x > 12:\n",
    "        raise Exception('Input incorect')\n",
    "    \n",
    "    months = [31, 28, 31, 30, 31, 30, 31, 31, 30, 31, 30, 31]\n",
    "    return months[x - 1]"
   ]
  },
  {
   "cell_type": "code",
   "execution_count": 2,
   "id": "9611e059-f900-4b49-a595-5f5a38aff614",
   "metadata": {},
   "outputs": [
    {
     "data": {
      "text/plain": [
       "31"
      ]
     },
     "execution_count": 2,
     "metadata": {},
     "output_type": "execute_result"
    }
   ],
   "source": [
    "daysOfMonth(10)"
   ]
  },
  {
   "cell_type": "code",
   "execution_count": 3,
   "id": "6c0fc276-eac7-4f69-b433-259756ffc18a",
   "metadata": {},
   "outputs": [],
   "source": [
    "# Returnam True daca anul este bisect, False in cazul opus\n",
    "def isBisect(year:int):\n",
    "    if (year % 4 == 0 and year % 100 != 0) or (year % 400 == 0):\n",
    "        return 1\n",
    "    else:\n",
    "        return 0"
   ]
  },
  {
   "cell_type": "code",
   "execution_count": 4,
   "id": "4816219f-2a68-4abe-bd43-aa26c821b9bf",
   "metadata": {},
   "outputs": [],
   "source": [
    "# Returnam numarul de zile in luna considerand anul bisect\n",
    "def daysMonths(x:int, year:int):\n",
    "    if x < 1 or x > 12:\n",
    "        raise Exception('Input incorect')\n",
    "    \n",
    "    months = [31, 28, 31, 30, 31, 30, 31, 31, 30, 31, 30, 31]\n",
    "    months[1] += isBisect(year)\n",
    "        \n",
    "    return months[x - 1]"
   ]
  },
  {
   "cell_type": "code",
   "execution_count": 5,
   "id": "14fc3374-1cd2-41b2-bd45-8425f841dcba",
   "metadata": {},
   "outputs": [
    {
     "data": {
      "text/plain": [
       "29"
      ]
     },
     "execution_count": 5,
     "metadata": {},
     "output_type": "execute_result"
    }
   ],
   "source": [
    "daysMonths(2, 2020)"
   ]
  }
 ],
 "metadata": {
  "kernelspec": {
   "display_name": "Python 3 (ipykernel)",
   "language": "python",
   "name": "python3"
  },
  "language_info": {
   "codemirror_mode": {
    "name": "ipython",
    "version": 3
   },
   "file_extension": ".py",
   "mimetype": "text/x-python",
   "name": "python",
   "nbconvert_exporter": "python",
   "pygments_lexer": "ipython3",
   "version": "3.7.6"
  }
 },
 "nbformat": 4,
 "nbformat_minor": 5
}
